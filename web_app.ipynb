{
  "nbformat": 4,
  "nbformat_minor": 0,
  "metadata": {
    "kernelspec": {
      "display_name": "Python 3",
      "language": "python",
      "name": "python3"
    },
    "language_info": {
      "codemirror_mode": {
        "name": "ipython",
        "version": 3
      },
      "file_extension": ".py",
      "mimetype": "text/x-python",
      "name": "python",
      "nbconvert_exporter": "python",
      "pygments_lexer": "ipython3",
      "version": "3.8.5"
    },
    "colab": {
      "name": "web_app.ipynb",
      "provenance": [],
      "collapsed_sections": []
    }
  },
  "cells": [
    {
      "cell_type": "code",
      "metadata": {
        "id": "49qXmfSqBzNx"
      },
      "source": [
        "from fastai.vision.all import *\n",
        "from fastai.vision.widgets import *"
      ],
      "execution_count": null,
      "outputs": []
    },
    {
      "cell_type": "code",
      "metadata": {
        "id": "anGQxYu2BzNx"
      },
      "source": [
        "learn_inf = load_learner('export.pkl', cpu=True)"
      ],
      "execution_count": null,
      "outputs": []
    },
    {
      "cell_type": "markdown",
      "metadata": {
        "id": "YTcmI3tvBzNy"
      },
      "source": [
        "# The Gorgeous Guitar Classifier!"
      ]
    },
    {
      "cell_type": "markdown",
      "metadata": {
        "id": "3Kcm1gJ-BzNy"
      },
      "source": [
        "You've just bought a guitar and damn! You don't even know if it's a telecaster or stratocaster! What to do?! This amazing app is here to solve your important doubt. Take a photo of your guitar, import it here and find out what the kind of your baby is!"
      ]
    },
    {
      "cell_type": "markdown",
      "metadata": {
        "id": "5K3sPfGfBzNy"
      },
      "source": [
        "___________________________________________________________________________________________________________________________"
      ]
    },
    {
      "cell_type": "code",
      "metadata": {
        "id": "UMose7VaBzNy"
      },
      "source": [
        "btn_upload = widgets.FileUpload()\n",
        "out_pl = widgets.Output()\n",
        "out_pl.clear_output()\n",
        "lbl_pred = widgets.Label()\n",
        "lbl_pred.value = 'Choose an image'\n",
        "btn_run = widgets.Button(description='Classify!')"
      ],
      "execution_count": null,
      "outputs": []
    },
    {
      "cell_type": "code",
      "metadata": {
        "id": "ap4th1IRBzNy"
      },
      "source": [
        "def on_click_classify(change):\n",
        "    img = PILImage.create(btn_upload.data[-1])\n",
        "    out_pl.clear_output()\n",
        "    with out_pl: display(img.to_thumb(200,200))\n",
        "    pred, pred_idx, probs = learn_inf.predict(img)\n",
        "    lbl_pred.value = f'Prediction: {pred}: Probability: {probs[pred_idx]:.04f}'"
      ],
      "execution_count": null,
      "outputs": []
    },
    {
      "cell_type": "code",
      "metadata": {
        "id": "1kOSzf5eB7M5"
      },
      "source": [
        "btn_upload.observe(on_click_classify, names=['data'])"
      ],
      "execution_count": null,
      "outputs": []
    },
    {
      "cell_type": "code",
      "metadata": {
        "colab": {
          "referenced_widgets": [
            "42a9b2f51817481bb9fd0edcf0895dcb"
          ]
        },
        "id": "rOez_TBFBzNy",
        "outputId": "5ebef8b2-d6b3-4960-bb0a-7188a365c083"
      },
      "source": [
        "display(VBox([widgets.Label('Select your guitar!'),\n",
        "     btn_upload, btn_run, out_pl, lbl_pred]))"
      ],
      "execution_count": null,
      "outputs": [
        {
          "output_type": "display_data",
          "data": {
            "application/vnd.jupyter.widget-view+json": {
              "model_id": "42a9b2f51817481bb9fd0edcf0895dcb",
              "version_major": 2,
              "version_minor": 0
            },
            "text/plain": [
              "VBox(children=(Label(value='Select your guitar!'), FileUpload(value={}, description='Upload'), Button(descript…"
            ]
          },
          "metadata": {
            "tags": []
          }
        }
      ]
    }
  ]
}